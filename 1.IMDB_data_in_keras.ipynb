{
 "cells": [
  {
   "cell_type": "markdown",
   "id": "a7e2b1be",
   "metadata": {},
   "source": [
    "# 1. The dataset : IMDB (Internet Movie Database)"
   ]
  },
  {
   "cell_type": "markdown",
   "id": "0550a7b4",
   "metadata": {},
   "source": [
    "### References:\n",
    "- Maas, A., Daly, R., Pham, P., Huang, D., Ng, A., & Potts, C. (2011). [Learning Word Vectors for Sentiment Analysis.](https://ai.stanford.edu/~amaas/papers/wvSent_acl2011.pdf)\n",
    "- [IMDB movie review sentiment classification dataset](https://keras.io/api/datasets/imdb/)"
   ]
  },
  {
   "cell_type": "markdown",
   "id": "950fe99c",
   "metadata": {},
   "source": [
    "This is a dataset of 50,000(25,000 for training) IMDB reviews. Each review comes with a label. \n",
    "- A `label of 0` is given to a `negative review`\n",
    "- A `label of 1` is given to a `positive review`\n",
    "\n",
    "The goal is to create a model that will predict the sentiment of a review, based on the words in the review."
   ]
  },
  {
   "cell_type": "markdown",
   "id": "0c5beb87",
   "metadata": {},
   "source": [
    "Moview reviews have been preprocessed, and each review is encoded as a list of word indexes (integers). For convenience, words are indexed by overall frequency in the dataset"
   ]
  },
  {
   "cell_type": "code",
   "execution_count": 125,
   "id": "c55b496a",
   "metadata": {},
   "outputs": [],
   "source": [
    "# Loading the data\n",
    "from keras.datasets import imdb"
   ]
  },
  {
   "cell_type": "code",
   "execution_count": 126,
   "id": "dad9449e",
   "metadata": {
    "scrolled": false
   },
   "outputs": [
    {
     "name": "stdout",
     "output_type": "stream",
     "text": [
      "first 10 words before encode and filtering :\n",
      "('the', 1)\n",
      "('and', 2)\n",
      "('a', 3)\n",
      "('of', 4)\n",
      "('to', 5)\n",
      "('is', 6)\n",
      "('br', 7)\n",
      "('in', 8)\n",
      "('it', 9)\n",
      "('i', 10)\n",
      "number of words: 88584\n"
     ]
    }
   ],
   "source": [
    "# Dictionary of all preprocessed words\n",
    "word_index = imdb.get_word_index()\n",
    "\n",
    "# Sorted by the most common frequency in the dataset\n",
    "preview_words = sorted(word_index.items(), key=lambda item:item[1])\n",
    "\n",
    "print(\"first 10 words before encode and filtering :\")\n",
    "for word in preview_words[:10]:\n",
    "    print(word)\n",
    "print(\"number of words:\", len(word_index))"
   ]
  },
  {
   "cell_type": "markdown",
   "id": "7d528f6e",
   "metadata": {},
   "source": [
    "# 2. Loading the data"
   ]
  },
  {
   "cell_type": "markdown",
   "id": "91bae682",
   "metadata": {},
   "source": [
    "This dataset comes preloaded with Keras, so one simple command will get us training and testing data, also we can change the default arguments to make filtering operations:\n",
    "- `num_words`: (integer or None),Words are ranked by how often they occur (in the training set) and only the `num_words` most frequent words are kept. Any less frequent word will appear as `oov_char` value in the sequence data. If None, all words are kept (88584 words). Defaults to `None`.\n",
    "- `start_char`: (integer). The start of a sequence will be marked with this character.Defaults to 1.\n",
    "- `skip_top`: skip the top N most frequently occurring words (which may not be informative). These words will appear as `oov_char` value in the dataset. When 0, no words are skipped. Defaults to 0.\n",
    "- `oov_char`: (integer). The out-of-vocabulary character. Words that were cut out because of the `num_words` or `skip_top` limits will be replaced with this character."
   ]
  },
  {
   "cell_type": "code",
   "execution_count": 3,
   "id": "b32a9125",
   "metadata": {},
   "outputs": [],
   "source": [
    "# load the train and test data with all the words\n",
    "(x_train, y_train), (x_test, y_test) = imdb.load_data()"
   ]
  },
  {
   "cell_type": "code",
   "execution_count": 4,
   "id": "7888b796",
   "metadata": {},
   "outputs": [],
   "source": [
    "# load the train and test data filtering the words\n",
    "(x_train_filter, y_train_filter),\\\n",
    "(x_test_filter, y_test_filter) = imdb.load_data(num_words=5000,\n",
    "                                                      skip_top=30,\n",
    "                                                      start_char=1,\n",
    "                                                      oov_char=2,\n",
    "                                                      index_from=3,\n",
    "                                                     )"
   ]
  },
  {
   "cell_type": "code",
   "execution_count": 5,
   "id": "bbcf8231",
   "metadata": {
    "scrolled": false
   },
   "outputs": [
    {
     "name": "stdout",
     "output_type": "stream",
     "text": [
      "x train shape: (25000,)\n",
      "y train shape: (25000,)\n"
     ]
    }
   ],
   "source": [
    "print(\"x train shape:\",x_train_filter.shape)\n",
    "print(\"y train shape:\",y_train_filter.shape)"
   ]
  },
  {
   "cell_type": "markdown",
   "id": "e401e5e6",
   "metadata": {},
   "source": [
    "After loading and splitting the data each movie review is encoded using the default arguments (showing all words in `word_index`) or using modified arguments (filtering words)\n",
    "\n",
    "Modify the arguments can help us to improve the model by skipping words that may not be informative in the classification process."
   ]
  },
  {
   "cell_type": "markdown",
   "id": "241c934d",
   "metadata": {},
   "source": [
    "### NOTE\n",
    "\n",
    "**The encoded values aren't the same values that were shown in the `word_index` dictionary. For instance, values 1,2,3 by default are reserved and the encoded values now start with number 4 if arguments are set with default values. For example:**\n",
    "- `'the'` is encoded with value 4\n",
    "- `'and'` is encoded with value 5\n",
    "- `'a'` is encoded with value 6, and so on\n",
    "\n",
    "**if arguments are modified like `num_words` or `skip_top`, the words out of the new range are encoded as `oov_char` in this case value 2**"
   ]
  },
  {
   "cell_type": "code",
   "execution_count": 6,
   "id": "72568354",
   "metadata": {},
   "outputs": [],
   "source": [
    "def decode_review(data_list):\n",
    "    # Default parameters used when load the data\n",
    "    start_char = 1\n",
    "    oov_char = 2\n",
    "    index_from = 3\n",
    "    # Retrieve the word index file mapping words to indices\n",
    "    word_index = imdb.get_word_index()\n",
    "    # Reverse the word index to obtain a dict mapping indices to words\n",
    "    # And add `index_from` to indices to sync with `x_train`\n",
    "    inverted_word_index = dict(\n",
    "        (i + index_from, word) for (word, i) in word_index.items()\n",
    "    )\n",
    "    # Update `inverted_word_index` to include `start_char` and `oov_char`\n",
    "    inverted_word_index[start_char] = \"[START]\"\n",
    "    inverted_word_index[oov_char] = \"[OOV]\"\n",
    "    # Decode the first sequence in the dataset\n",
    "    decoded_sequence = \" \".join(inverted_word_index[i] for i in data_list)\n",
    "    return decoded_sequence\n"
   ]
  },
  {
   "cell_type": "code",
   "execution_count": 7,
   "id": "b643ff72",
   "metadata": {
    "scrolled": false
   },
   "outputs": [
    {
     "name": "stdout",
     "output_type": "stream",
     "text": [
      "encode movie review:\n",
      " [1, 14, 22, 16, 43, 530, 973, 1622, 1385, 65, 458, 4468, 66, 3941, 4, 173, 36, 256, 5, 25, 100, 43, 838, 112, 50, 670, 22665, 9, 35, 480, 284, 5, 150, 4, 172, 112, 167, 21631, 336, 385, 39, 4, 172, 4536, 1111, 17, 546, 38, 13, 447, 4, 192, 50, 16, 6, 147, 2025, 19, 14, 22, 4, 1920, 4613, 469, 4, 22, 71, 87, 12, 16, 43, 530, 38, 76, 15, 13, 1247, 4, 22, 17, 515, 17, 12, 16, 626, 18, 19193, 5, 62, 386, 12, 8, 316, 8, 106, 5, 4, 2223, 5244, 16, 480, 66, 3785, 33, 4, 130, 12, 16, 38, 619, 5, 25, 124, 51, 36, 135, 48, 25, 1415, 33, 6, 22, 12, 215, 28, 77, 52, 5, 14, 407, 16, 82, 10311, 8, 4, 107, 117, 5952, 15, 256, 4, 31050, 7, 3766, 5, 723, 36, 71, 43, 530, 476, 26, 400, 317, 46, 7, 4, 12118, 1029, 13, 104, 88, 4, 381, 15, 297, 98, 32, 2071, 56, 26, 141, 6, 194, 7486, 18, 4, 226, 22, 21, 134, 476, 26, 480, 5, 144, 30, 5535, 18, 51, 36, 28, 224, 92, 25, 104, 4, 226, 65, 16, 38, 1334, 88, 12, 16, 283, 5, 16, 4472, 113, 103, 32, 15, 16, 5345, 19, 178, 32] \n",
      "\n",
      "review label: positive \n",
      "\n",
      "decode movie review:\n",
      " [START] this film was just brilliant casting location scenery story direction everyone's really suited the part they played and you could just imagine being there robert redford's is an amazing actor and now the same being director norman's father came from the same scottish island as myself so i loved the fact there was a real connection with this film the witty remarks throughout the film were great it was just brilliant so much that i bought the film as soon as it was released for retail and would recommend it to everyone to watch and the fly fishing was amazing really cried at the end it was so sad and you know what they say if you cry at a film it must have been good and this definitely was also congratulations to the two little boy's that played the part's of norman and paul they were just brilliant children are often left out of the praising list i think because the stars that play them all grown up are such a big profile for the whole film but these children are amazing and should be praised for what they have done don't you think the whole story was so lovely because it was true and was someone's life after all that was shared with us all\n"
     ]
    }
   ],
   "source": [
    "# firts movie review with default arguments\n",
    "print(\"encode movie review:\\n\",x_train[0],'\\n')\n",
    "print(\"review label:\",'positive' if y_train[0]==1 else 'negative','\\n')\n",
    "print(\"decode movie review:\\n\",decode_review(x_train[0]))"
   ]
  },
  {
   "cell_type": "code",
   "execution_count": 8,
   "id": "b4685eee",
   "metadata": {
    "scrolled": false
   },
   "outputs": [
    {
     "name": "stdout",
     "output_type": "stream",
     "text": [
      "encode movie review with filtered words:\n",
      " [2, 2, 2, 2, 43, 530, 973, 1622, 1385, 65, 458, 4468, 66, 3941, 2, 173, 36, 256, 2, 2, 100, 43, 838, 112, 50, 670, 2, 2, 35, 480, 284, 2, 150, 2, 172, 112, 167, 2, 336, 385, 39, 2, 172, 4536, 1111, 2, 546, 38, 2, 447, 2, 192, 50, 2, 2, 147, 2025, 2, 2, 2, 2, 1920, 4613, 469, 2, 2, 71, 87, 2, 2, 43, 530, 38, 76, 2, 2, 1247, 2, 2, 2, 515, 2, 2, 2, 626, 2, 2, 2, 62, 386, 2, 2, 316, 2, 106, 2, 2, 2223, 2, 2, 480, 66, 3785, 33, 2, 130, 2, 2, 38, 619, 2, 2, 124, 51, 36, 135, 48, 2, 1415, 33, 2, 2, 2, 215, 2, 77, 52, 2, 2, 407, 2, 82, 2, 2, 2, 107, 117, 2, 2, 256, 2, 2, 2, 3766, 2, 723, 36, 71, 43, 530, 476, 2, 400, 317, 46, 2, 2, 2, 1029, 2, 104, 88, 2, 381, 2, 297, 98, 32, 2071, 56, 2, 141, 2, 194, 2, 2, 2, 226, 2, 2, 134, 476, 2, 480, 2, 144, 30, 2, 2, 51, 36, 2, 224, 92, 2, 104, 2, 226, 65, 2, 38, 1334, 88, 2, 2, 283, 2, 2, 4472, 113, 103, 32, 2, 2, 2, 2, 178, 32] \n",
      "\n",
      "review label: positive \n",
      "\n",
      "decode movie review with filtered words:\n",
      " [OOV] [OOV] [OOV] [OOV] just brilliant casting location scenery story direction everyone's really suited [OOV] part they played [OOV] [OOV] could just imagine being there robert [OOV] [OOV] an amazing actor [OOV] now [OOV] same being director [OOV] father came from [OOV] same scottish island [OOV] myself so [OOV] loved [OOV] fact there [OOV] [OOV] real connection [OOV] [OOV] [OOV] [OOV] witty remarks throughout [OOV] [OOV] were great [OOV] [OOV] just brilliant so much [OOV] [OOV] bought [OOV] [OOV] [OOV] soon [OOV] [OOV] [OOV] released [OOV] [OOV] [OOV] would recommend [OOV] [OOV] everyone [OOV] watch [OOV] [OOV] fly [OOV] [OOV] amazing really cried at [OOV] end [OOV] [OOV] so sad [OOV] [OOV] know what they say if [OOV] cry at [OOV] [OOV] [OOV] must [OOV] been good [OOV] [OOV] definitely [OOV] also [OOV] [OOV] [OOV] two little [OOV] [OOV] played [OOV] [OOV] [OOV] norman [OOV] paul they were just brilliant children [OOV] often left out [OOV] [OOV] [OOV] list [OOV] think because [OOV] stars [OOV] play them all grown up [OOV] such [OOV] big [OOV] [OOV] [OOV] whole [OOV] [OOV] these children [OOV] amazing [OOV] should be [OOV] [OOV] what they [OOV] done don't [OOV] think [OOV] whole story [OOV] so lovely because [OOV] [OOV] true [OOV] [OOV] someone's life after all [OOV] [OOV] [OOV] [OOV] us all\n"
     ]
    }
   ],
   "source": [
    "# firts movie review filtering the words\n",
    "print(\"encode movie review with filtered words:\\n\",x_train_filter[0],'\\n')\n",
    "print(\"review label:\",'positive' if y_train[0]==1 else 'negative','\\n')\n",
    "print(\"decode movie review with filtered words:\\n\",decode_review(x_train_filter[0]))"
   ]
  },
  {
   "cell_type": "markdown",
   "id": "140cfe5a",
   "metadata": {},
   "source": [
    "# 3.Vectorization"
   ]
  },
  {
   "cell_type": "markdown",
   "id": "0b7d80cd",
   "metadata": {},
   "source": [
    "### References:\n",
    "\n",
    "- [Why One-Hot Encode Data in Machine Learning?](https://machinelearningmastery.com/why-one-hot-encode-data-in-machine-learning/)\n",
    "\n",
    "- [Ordinal and One-Hot Encodings for Categorical Data](https://machinelearningmastery.com/one-hot-encoding-for-categorical-data/)\n",
    "\n",
    "- [Vectorize a text](https://www.tensorflow.org/api_docs/python/tf/keras/preprocessing/text/Tokenizer)"
   ]
  },
  {
   "cell_type": "markdown",
   "id": "a85b6b5b",
   "metadata": {},
   "source": [
    "By now I selected `5000` words from the `word_index` to codify every movie review into integer values. The problem is every movie review is different: \n",
    "- No one movie review uses all the 5000 words.\n",
    "- Repeated words in a single movie review\n",
    "- The array length of every movie review is different\n",
    "- Every movie review has a different \"bag of words\" to compose a review.\n",
    "\n",
    "To solve this problem I `vectorized` every encoded movie review into a `vector of length 5000` where the coefficient for each encoded word(`token`) changes by a binary representation(0 or 1), based on the word count.\n",
    "\n",
    "For example the pre-processed vector (`x_train_filter[0]`) contains the number `2` and `43`, then in the processed vector(`x_train_token[0]`), the `index 2` and the `index 43` will be `1`\n",
    "\n",
    "I also used `one-hot` encoding in the output because we have `2` posible options(negative or positive moview review)"
   ]
  },
  {
   "cell_type": "markdown",
   "id": "33fae10d",
   "metadata": {},
   "source": [
    "<img src='images/vectorization.png' width='50%'>"
   ]
  },
  {
   "cell_type": "code",
   "execution_count": 9,
   "id": "da462104",
   "metadata": {},
   "outputs": [],
   "source": [
    "from keras.preprocessing.text import Tokenizer\n",
    "from keras.utils import to_categorical\n",
    "\n",
    "# vectorize data into vector mode, each of length 5000\n",
    "tokenizer = Tokenizer(num_words=5000)\n",
    "x_train_token = tokenizer.sequences_to_matrix(x_train_filter, mode='binary')\n",
    "x_test_token = tokenizer.sequences_to_matrix(x_test_filter, mode='binary')\n",
    "\n",
    "\n",
    "# One-hot encoding the output\n",
    "num_classes = 2\n",
    "y_train_token = to_categorical(y_train_filter, num_classes)\n",
    "y_test_token = to_categorical(y_test_filter, num_classes)"
   ]
  },
  {
   "cell_type": "code",
   "execution_count": 10,
   "id": "269840ea",
   "metadata": {
    "scrolled": false
   },
   "outputs": [
    {
     "name": "stdout",
     "output_type": "stream",
     "text": [
      "length of a single vectorized movie review:\n",
      " 5000\n",
      "first 10 encoded words of a movie review:\n",
      " [2, 2, 2, 2, 43, 530, 973, 1622, 1385, 65]\n",
      "first 10 vectorized words of a movie review:\n",
      " [0. 0. 1. 0. 0. 0. 0. 0. 0. 0.]\n",
      "original label(negative:0, positive:1):\n",
      " 1\n",
      "one-hot encoding label:\n",
      " [0. 1.]\n"
     ]
    }
   ],
   "source": [
    "# length\n",
    "print(\"length of a single vectorized movie review:\\n\",len(x_train_token[0]))\n",
    "# encoded representation\n",
    "print(\"first 10 encoded words of a movie review:\\n\", x_train_filter[0][:10])\n",
    "# vectorized representation\n",
    "print(\"first 10 vectorized words of a movie review:\\n\", x_train_token[0][:10])\n",
    "\n",
    "#\n",
    "print('original label(negative:0, positive:1):\\n',y_train_filter[0])\n",
    "print('one-hot encoding label:\\n',y_train_token[0])"
   ]
  },
  {
   "cell_type": "markdown",
   "id": "0c4f35ec",
   "metadata": {},
   "source": [
    "# 4.Building the model architecture"
   ]
  },
  {
   "cell_type": "markdown",
   "id": "7e6e6b41",
   "metadata": {},
   "source": [
    "### References:\n",
    "- [Sequential model](https://keras.io/guides/sequential_model/)\n",
    "- [Keras Dense Layer: How to Use It Correctly](https://wandb.ai/ayush-thakur/keras-dense/reports/Keras-Dense-Layer-How-to-Use-It-Correctly--Vmlldzo0MjAzNDY1)"
   ]
  },
  {
   "cell_type": "code",
   "execution_count": 11,
   "id": "58c6d637",
   "metadata": {},
   "outputs": [],
   "source": [
    "# to use CPU/GPU in training process\n",
    "import tensorflow as tf\n",
    "\n",
    "# Neural networks\n",
    "from keras.models import Sequential\n",
    "from keras.layers import Dense, Dropout, Activation\n",
    "\n",
    "# Grid Search\n",
    "from keras.wrappers.scikit_learn import KerasClassifier\n",
    "from sklearn.model_selection import GridSearchCV\n",
    "\n",
    "\n",
    "# IMPORTANT: keras.wrappers.scikit_learn is deprecated. \n",
    "# By now I will used anyway and I'm gonna hide the warning error\n",
    "# --------------------------------------------------------------\n",
    "import warnings\n",
    "warnings.filterwarnings(\"ignore\", category=DeprecationWarning) \n",
    "# --------------------------------------------------------------"
   ]
  },
  {
   "cell_type": "markdown",
   "id": "33f4cbe2",
   "metadata": {},
   "source": [
    "### Optimal number of 'units'"
   ]
  },
  {
   "cell_type": "markdown",
   "id": "e6b66734",
   "metadata": {},
   "source": [
    "- [Dropout Regularization in Deep Learning Models with Keras](https://machinelearningmastery.com/dropout-regularization-deep-learning-models-keras/)\n",
    "- [Dropout layer](https://keras.io/api/layers/regularization_layers/dropout/)"
   ]
  },
  {
   "cell_type": "markdown",
   "id": "c4f75639",
   "metadata": {},
   "source": [
    "How properly select the number of `units` in a `dense layer`? This first step can significantly impact the model's performance. Some solutions that I found:\n",
    "- `Trial and error` (not a good choice)\n",
    "- `Rule of Thumb`: Use a number of `units` between the number of input features and the number of output classes.\n",
    "- `Grid search`: search over a range of possible values and return an optimal configuration"
   ]
  },
  {
   "cell_type": "markdown",
   "id": "c62ea4fd",
   "metadata": {},
   "source": [
    "By now I created a simple `Sequential` model with a hidden layer and unknown `units`, a `Relu` activation function (popular choice), and a `softmax` activation function for the output (is often used as the activation for the last layer of a classification network)"
   ]
  },
  {
   "cell_type": "markdown",
   "id": "57c4f40b",
   "metadata": {},
   "source": [
    "<img src='images/units.png' width='40%'>"
   ]
  },
  {
   "cell_type": "code",
   "execution_count": 12,
   "id": "2cff76fc",
   "metadata": {},
   "outputs": [],
   "source": [
    "def IMDB_first_model (units=1):\n",
    "    model = Sequential()\n",
    "    model.add(Dense(units, activation='relu', input_shape=(5000,)))\n",
    "    model.add(Dense(2, activation='softmax'))\n",
    "    model.compile(loss = 'categorical_crossentropy', optimizer='adam', metrics=['accuracy'])\n",
    "    return model"
   ]
  },
  {
   "cell_type": "code",
   "execution_count": 21,
   "id": "919be056",
   "metadata": {
    "scrolled": false
   },
   "outputs": [],
   "source": [
    "# shows the training process if true\n",
    "#tf.debugging.set_log_device_placement(False)\n",
    "\n",
    "# to use only CPU in training process\n",
    "with tf.device('/CPU:0'):\n",
    "    #create a wrapper for use in GridSearchCV with KerasClassifier API\n",
    "    first_estimator = KerasClassifier(build_fn=IMDB_first_model, verbose=0)\n",
    "    #defined parameters for grid search\n",
    "    #first_param_grid = {'units':[250,400,650,800,850]} # best option: 800, best score: 0.8826\n",
    "    #first_param_grid = {'units':[800,825,850,900,1200]} # best option: 1200, best score: 0.8820\n",
    "    first_param_grid = {'units':[400,800,1200,2000]} #best option: 400, best score:0.8828\n",
    "    #perform grid search\n",
    "    first_grid = GridSearchCV(estimator=first_estimator,param_grid=first_param_grid)\n",
    "    first_grid_result = first_grid.fit(x_train_token, y_train_token)"
   ]
  },
  {
   "cell_type": "code",
   "execution_count": 25,
   "id": "70c28ebd",
   "metadata": {},
   "outputs": [
    {
     "name": "stdout",
     "output_type": "stream",
     "text": [
      "Best score: 0.882840 using {'units': 400}\n",
      "mean: 0.882840 (stdev: 0.002541) with: {'units': 400}\n",
      "mean: 0.882800 (stdev: 0.000580) with: {'units': 800}\n",
      "mean: 0.880440 (stdev: 0.002480) with: {'units': 1200}\n",
      "mean: 0.882680 (stdev: 0.004372) with: {'units': 2000}\n"
     ]
    }
   ],
   "source": [
    "#show result\n",
    "print(\"Best score: %f using %s\" % (first_grid_result.best_score_, first_grid_result.best_params_))\n",
    "means = first_grid_result.cv_results_['mean_test_score']\n",
    "stds = first_grid_result.cv_results_['std_test_score']\n",
    "params = first_grid_result.cv_results_['params']\n",
    "for mean, stdev, param in zip(means, stds, params):\n",
    "    print(\"mean: %f (stdev: %f) with: %r\" % (mean, stdev, param))"
   ]
  },
  {
   "cell_type": "markdown",
   "id": "107702a9",
   "metadata": {},
   "source": [
    "### Dropout"
   ]
  },
  {
   "cell_type": "markdown",
   "id": "3a03c7e8",
   "metadata": {},
   "source": [
    "`Dropout` is a regularization technique used to prevent overfitting in neural networks. Dropout helps to prevent `overfitting` randomly setting a fraction of input `units` to zero during training, effectively \"dropping out\" some neurons."
   ]
  },
  {
   "cell_type": "markdown",
   "id": "7e3c170a",
   "metadata": {},
   "source": [
    "<img src='images/dropout.png' width='40%'>"
   ]
  },
  {
   "cell_type": "code",
   "execution_count": 26,
   "id": "a80f1085",
   "metadata": {},
   "outputs": [],
   "source": [
    "def IMDB_second_model (dropout=0):\n",
    "    model = Sequential()\n",
    "    model.add(Dense(400, activation='relu', input_shape=(5000,)))\n",
    "    model.add(Dropout(dropout))\n",
    "    model.add(Dense(2, activation='softmax'))\n",
    "    model.compile(loss = 'categorical_crossentropy', optimizer='adam', metrics=['accuracy'])\n",
    "    return model"
   ]
  },
  {
   "cell_type": "code",
   "execution_count": 34,
   "id": "ccec0606",
   "metadata": {},
   "outputs": [],
   "source": [
    "# to use only CPU in training process\n",
    "with tf.device('/CPU:0'):\n",
    "    #create a wrapper for use in GridSearchCV with KerasClassifier API\n",
    "    second_estimator = KerasClassifier(build_fn=IMDB_second_model, verbose=0)\n",
    "    #defined parameters for grid search\n",
    "    second_param_grid = {'dropout':[0,0.1,0.2,0.4,0.5,0.6]} # best score:0.8841 using dropout:0.5\n",
    "    #perform grid search\n",
    "    second_grid = GridSearchCV(estimator=second_estimator,param_grid=second_param_grid)\n",
    "    second_grid_result = second_grid.fit(x_train_token, y_train_token)"
   ]
  },
  {
   "cell_type": "code",
   "execution_count": 35,
   "id": "bf9038be",
   "metadata": {
    "scrolled": true
   },
   "outputs": [
    {
     "name": "stdout",
     "output_type": "stream",
     "text": [
      "Best score: 0.884160 using {'dropout': 0.5}\n"
     ]
    }
   ],
   "source": [
    "#show result\n",
    "print(\"Best score: %f using %s\" % (second_grid_result.best_score_, second_grid_result.best_params_))"
   ]
  },
  {
   "cell_type": "markdown",
   "id": "2e5948b6",
   "metadata": {},
   "source": [
    "### A second hidden layer?"
   ]
  },
  {
   "cell_type": "markdown",
   "id": "69449165",
   "metadata": {},
   "source": [
    "For simpler problems adding unnecessary complexity (additional hidden layers) might lead to overfitting or slower convergence without significant benefits. Deeper architectures require more computational resources for training and inference. If computational resources are limited, simpler models may be preferred."
   ]
  },
  {
   "cell_type": "code",
   "execution_count": 52,
   "id": "1b17cd21",
   "metadata": {},
   "outputs": [],
   "source": [
    "def IMDB_third_model (units=1):\n",
    "    model = Sequential()\n",
    "    model.add(Dense(400, activation='relu', input_shape=(5000,)))\n",
    "    model.add(Dropout(0.5))\n",
    "    model.add(Dense(units, activation='relu'))\n",
    "    model.add(Dense(2, activation='softmax'))\n",
    "    model.compile(loss = 'categorical_crossentropy', optimizer='adam', metrics=['accuracy'])\n",
    "    return model"
   ]
  },
  {
   "cell_type": "markdown",
   "id": "acfd90e8",
   "metadata": {},
   "source": [
    "`EarlyStopping` prevent overfitting. Combining with `GridSearchCV` can stop training for each parameter combination as soon as it becomes clear that further training is not improving the model's performance, saving computational resources and time."
   ]
  },
  {
   "cell_type": "code",
   "execution_count": 28,
   "id": "bd22a8e5",
   "metadata": {},
   "outputs": [],
   "source": [
    "# prevent overfitting \n",
    "from keras.callbacks import EarlyStopping\n",
    "earlystopping = EarlyStopping(monitor=\"val_loss\",\n",
    "                                patience=3, #number of epochs with no improvement before stopping\n",
    "                                verbose=0)"
   ]
  },
  {
   "cell_type": "code",
   "execution_count": null,
   "id": "96a9bc92",
   "metadata": {},
   "outputs": [],
   "source": [
    "# to use only CPU in training process\n",
    "with tf.device('/CPU:0'):\n",
    "    #create a wrapper for use in GridSearchCV with KerasClassifier API\n",
    "    third_estimator = KerasClassifier(build_fn=IMDB_third_model, verbose=0)\n",
    "    #defined parameters for grid search\n",
    "    third_param_grid = {'units':[100,150,200,250]} #best score:0.882280 units:200\n",
    "    #perform grid search\n",
    "    third_grid = GridSearchCV(estimator=third_estimator,param_grid=third_param_grid)\n",
    "    third_grid_result = third_grid.fit(x_train_token, y_train_token,\\\n",
    "                                       validation_data=(x_test_token, y_test_token),\\\n",
    "                                       callbacks=[earlystopping])"
   ]
  },
  {
   "cell_type": "code",
   "execution_count": 52,
   "id": "d2f06600",
   "metadata": {},
   "outputs": [
    {
     "name": "stdout",
     "output_type": "stream",
     "text": [
      "Best score: 0.882280 using {'units': 200}\n"
     ]
    }
   ],
   "source": [
    "#Shows result\n",
    "print(\"Best score: %f using %s\" % (third_grid_result.best_score_, third_grid_result.best_params_))"
   ]
  },
  {
   "cell_type": "code",
   "execution_count": 53,
   "id": "10d95979",
   "metadata": {},
   "outputs": [],
   "source": [
    "#Model comparison\n",
    "#dropout model\n",
    "dropout_model = IMDB_second_model(dropout=0.5)\n",
    "hist_dropout_model=dropout_model.fit(x_train_token, y_train_token, verbose=0)\n",
    "#second hidden layer model\n",
    "second_units_model = IMDB_third_model(units=200)\n",
    "hist_units_model=second_units_model.fit(x_train_token, y_train_token, verbose=0)"
   ]
  },
  {
   "cell_type": "code",
   "execution_count": 54,
   "id": "f7500401",
   "metadata": {
    "scrolled": true
   },
   "outputs": [
    {
     "name": "stdout",
     "output_type": "stream",
     "text": [
      "782/782 [==============================] - 1s 2ms/step - loss: 0.2841 - accuracy: 0.8806\n",
      "\n",
      " testing Accuracy with dropout model: 0.8805999755859375\n",
      "782/782 [==============================] - 2s 2ms/step - loss: 0.2843 - accuracy: 0.8816\n",
      "\n",
      " Testing Accuracy with second hidden layer: 0.881600022315979\n"
     ]
    }
   ],
   "source": [
    "# Evaluating the model on testing data set\n",
    "score_dropout_model = dropout_model.evaluate(x_test_token, y_test_token)\n",
    "print(\"\\n Testing Accuracy with dropout model:\", score_dropout_model[1])\n",
    "score_units_model = second_units_model.evaluate(x_test_token, y_test_token)\n",
    "print(\"\\n Testing Accuracy with second hidden layer:\", score_units_model[1])"
   ]
  },
  {
   "cell_type": "markdown",
   "id": "6280f7eb",
   "metadata": {},
   "source": [
    "The difference in accuracy between the 2 models is minimal and the second model (the one with a second hidden layer) is slower, in this case, I decided to NOT add a second hidden layer."
   ]
  },
  {
   "cell_type": "markdown",
   "id": "83b46257",
   "metadata": {},
   "source": [
    "### Optimal batch size and epochs"
   ]
  },
  {
   "cell_type": "markdown",
   "id": "a8f8ff84",
   "metadata": {},
   "source": [
    "- [All You Need to Know about Batch Size, Epochs and Training Steps in a Neural Network](https://medium.com/data-science-365/all-you-need-to-know-about-batch-size-epochs-and-training-steps-in-a-neural-network-f592e12cdb0a).\n",
    "- [Difference Between a Batch and an Epoch in a Neural Network](https://machinelearningmastery.com/difference-between-a-batch-and-an-epoch/)\n",
    "- [How to Control the Stability of Training Neural Networks With the Batch Size](https://machinelearningmastery.com/how-to-control-the-speed-and-stability-of-training-neural-networks-with-gradient-descent-batch-size/)"
   ]
  },
  {
   "cell_type": "markdown",
   "id": "af90b274",
   "metadata": {},
   "source": [
    " - The `batch size` affects the convergence speed and generalization performance of the model. The value is typically chosen between 1 and a few hundreds. In `keras` the default values is `32`(in general across a wide range of experiments. In all cases the best results have been obtained with batch sizes iqual to 32)\n",
    " \n",
    "- The number of `epochs` allows the learning algorithm to run until the error from the model has been sufficiently minimized.\n",
    "\n",
    "There are no magic rules for how to configure these parameters. You must try different values and see what works best for your problem."
   ]
  },
  {
   "cell_type": "code",
   "execution_count": 59,
   "id": "b6cab0b9",
   "metadata": {},
   "outputs": [],
   "source": [
    "def IMDB_model ():\n",
    "    model = Sequential()\n",
    "    model.add(Dense(400, activation='relu', input_shape=(5000,)))\n",
    "    model.add(Dropout(0.5))\n",
    "    model.add(Dense(2, activation='softmax'))\n",
    "    model.compile(loss = 'categorical_crossentropy', optimizer='adam', metrics=['accuracy'])\n",
    "    return model"
   ]
  },
  {
   "cell_type": "code",
   "execution_count": 18,
   "id": "cf3ea5b5",
   "metadata": {
    "scrolled": false
   },
   "outputs": [],
   "source": [
    "# prevent overfitting \n",
    "earlystopping = EarlyStopping(monitor=\"val_loss\", patience=3, mode=\"min\",restore_best_weights=True)\n",
    "\n",
    "# to use only CPU in training process\n",
    "with tf.device('/CPU:0'):\n",
    "    #create a wrapper for use in GridSearchCV with KerasClassifier API\n",
    "    estimator = KerasClassifier(build_fn=IMDB_model,verbose=0)\n",
    "    #defined parameters for grid search\n",
    "    #param_grid = {'batch_size':[3,5,10,12,20,25,30,40]} # best score 0.8821, batch_size:20\n",
    "    param_grid = {'batch_size':[15,20,22,26,30]} # best score 0.8827, batch_size:22\n",
    "    #perform grid search\n",
    "    grid = GridSearchCV(estimator=estimator,param_grid=param_grid)\n",
    "    grid_result = grid.fit(x_train_token, y_train_token,\\\n",
    "                            validation_data=(x_test_token, y_test_token),\\\n",
    "                            callbacks=[earlystopping], verbose=0)"
   ]
  },
  {
   "cell_type": "code",
   "execution_count": 19,
   "id": "c7e49122",
   "metadata": {
    "scrolled": true
   },
   "outputs": [
    {
     "name": "stdout",
     "output_type": "stream",
     "text": [
      "Best score: 0.882800 using {'batch_size': 30}\n"
     ]
    }
   ],
   "source": [
    "#Shows result\n",
    "print(\"Best score: %f using %s\" % (grid_result.best_score_, grid_result.best_params_))"
   ]
  },
  {
   "cell_type": "code",
   "execution_count": 48,
   "id": "ffe9e88c",
   "metadata": {},
   "outputs": [
    {
     "name": "stdout",
     "output_type": "stream",
     "text": [
      "Epoch 1/12\n",
      "1137/1137 [==============================] - 6s 5ms/step - loss: 0.3446 - accuracy: 0.8537 - val_loss: 0.2916 - val_accuracy: 0.8796\n",
      "Epoch 2/12\n",
      "1137/1137 [==============================] - 5s 4ms/step - loss: 0.2180 - accuracy: 0.9146 - val_loss: 0.2978 - val_accuracy: 0.8784\n",
      "Epoch 3/12\n",
      "1137/1137 [==============================] - 5s 4ms/step - loss: 0.1312 - accuracy: 0.9514 - val_loss: 0.4046 - val_accuracy: 0.8678\n",
      "Epoch 4/12\n",
      "1136/1137 [============================>.] - ETA: 0s - loss: 0.0706 - accuracy: 0.9754Restoring model weights from the end of the best epoch: 1.\n",
      "1137/1137 [==============================] - 5s 4ms/step - loss: 0.0706 - accuracy: 0.9754 - val_loss: 0.4487 - val_accuracy: 0.8714\n",
      "Epoch 4: early stopping\n"
     ]
    }
   ],
   "source": [
    "model_epochs = IMDB_model()\n",
    "\n",
    "# verify overfitting \n",
    "earlystopping = EarlyStopping(monitor=\"val_loss\", patience=3, mode=\"min\",restore_best_weights=True,verbose=1)\n",
    "\n",
    "# epochs verification\n",
    "history = model_epochs.fit(x_train_token, y_train_token, \n",
    "                    batch_size=22,\n",
    "                    epochs=12, #random value\n",
    "                    validation_data=(x_test_token, y_test_token),\n",
    "                    callbacks=[earlystopping])"
   ]
  },
  {
   "cell_type": "markdown",
   "id": "18970e12",
   "metadata": {},
   "source": [
    "### Making predictions"
   ]
  },
  {
   "cell_type": "markdown",
   "id": "41669c36",
   "metadata": {},
   "source": [
    "<img src='images/neuralNetwork.png' width='40%'>"
   ]
  },
  {
   "cell_type": "code",
   "execution_count": 60,
   "id": "b880fbdb",
   "metadata": {},
   "outputs": [
    {
     "name": "stdout",
     "output_type": "stream",
     "text": [
      "Model: \"sequential_21\"\n",
      "_________________________________________________________________\n",
      " Layer (type)                Output Shape              Param #   \n",
      "=================================================================\n",
      " dense_50 (Dense)            (None, 400)               2000400   \n",
      "                                                                 \n",
      " dropout_15 (Dropout)        (None, 400)               0         \n",
      "                                                                 \n",
      " dense_51 (Dense)            (None, 2)                 802       \n",
      "                                                                 \n",
      "=================================================================\n",
      "Total params: 2,001,202\n",
      "Trainable params: 2,001,202\n",
      "Non-trainable params: 0\n",
      "_________________________________________________________________\n",
      "1137/1137 - 10s - loss: 0.3352 - accuracy: 0.8558 - val_loss: 0.2815 - val_accuracy: 0.8826 - 10s/epoch - 9ms/step\n",
      "782/782 [==============================] - 2s 3ms/step - loss: 0.1792 - accuracy: 0.9398\n",
      "782/782 [==============================] - 2s 3ms/step - loss: 0.2815 - accuracy: 0.8826\n",
      "\n",
      " Training Accuracy: 0.9397600293159485\n",
      "\n",
      " Testing Accuracy: 0.8825600147247314\n"
     ]
    }
   ],
   "source": [
    "model = IMDB_model()\n",
    "model.summary()\n",
    "\n",
    "with tf.device('/CPU:0'):\n",
    "    # training the model\n",
    "    history = model.fit(x_train_token, y_train_token, \n",
    "                    batch_size=22,\n",
    "                    epochs=1,\n",
    "                    validation_data=(x_test_token, y_test_token),\n",
    "                    verbose=2)\n",
    "    # Evaluating the model on the training and testing set\n",
    "    score_train = model.evaluate(x_train_token, y_train_token)\n",
    "    score_test = model.evaluate(x_test_token, y_test_token)\n",
    "    \n",
    "print(\"\\n Training Accuracy:\", score_train[1])\n",
    "print(\"\\n Testing Accuracy:\", score_test[1])"
   ]
  },
  {
   "cell_type": "code",
   "execution_count": 102,
   "id": "386dd13b",
   "metadata": {},
   "outputs": [
    {
     "name": "stdout",
     "output_type": "stream",
     "text": [
      "782/782 [==============================] - 1s 1ms/step\n"
     ]
    }
   ],
   "source": [
    "import matplotlib\n",
    "import matplotlib.pyplot as plt\n",
    "import numpy as np\n",
    "from sklearn.metrics import confusion_matrix, ConfusionMatrixDisplay\n",
    "\n",
    "predictions = model.predict(x_test_token)"
   ]
  },
  {
   "cell_type": "code",
   "execution_count": 62,
   "id": "a7726ee7",
   "metadata": {
    "scrolled": false
   },
   "outputs": [
    {
     "data": {
      "image/png": "[encoded data removed]",
      "text/plain": [
       "<Figure size 640x480 with 2 Axes>"
      ]
     },
     "metadata": {},
     "output_type": "display_data"
    }
   ],
   "source": [
    "# prediction to binary\n",
    "threshold = 0.5\n",
    "pred_binary = np.where(predictions[:,1]>=threshold,1,0)\n",
    "# labeled test data to binary\n",
    "y_test_binary = np.where(y_test_token[:,1]==1,1,0)\n",
    "\n",
    "cm = confusion_matrix(y_test_binary, pred_binary)\n",
    "disp = ConfusionMatrixDisplay(confusion_matrix=cm)\n",
    "disp.plot()\n",
    "plt.show()"
   ]
  },
  {
   "cell_type": "markdown",
   "id": "81f42f93",
   "metadata": {},
   "source": [
    "From the confusion matrix we can conclude:\n",
    "- `10992` positive movie reviews were correctly predicted\n",
    "- `11072` negative movie reviews were correctly predicted as negative\n",
    "- `1508` incorrectly classified movie reviews as positives\n",
    "- `1428` incorrectly classified movie reviews as negatives\n",
    "\n",
    "from a total value `25000(100%)` movie reviews, `2936(11.9%)` are incorrecly classified. "
   ]
  },
  {
   "cell_type": "markdown",
   "id": "4d5a731d",
   "metadata": {},
   "source": [
    "### Misclassified moview reviews"
   ]
  },
  {
   "cell_type": "code",
   "execution_count": 180,
   "id": "6e6b1f18",
   "metadata": {
    "scrolled": true
   },
   "outputs": [
    {
     "name": "stdout",
     "output_type": "stream",
     "text": [
      "predicted review label: positive \n",
      "\n",
      "decoded movie review:\n",
      " [START] i generally love this type of movie however this time i found myself wanting to kick the screen since i can't do that i will just complain about it this was absolutely idiotic the things that happen with the dead kids are very cool but the alive people are absolute idiots i am a grown man pretty big and i can defend myself well however i would not do half the stuff the little girl does in this movie also the mother in this movie is reckless with her children to the point of neglect i wish i wasn't so angry about her and her actions because i would have otherwise enjoyed the flick what a number she was take my advise and fast forward through everything you see her do until the end also is anyone else getting sick of watching movies that are filmed so dark anymore one can hardly see what is being filmed as an audience we are impossibly involved with the actions on the screen so then why the hell can't we have night vision\n"
     ]
    }
   ],
   "source": [
    "for y_index in range(0,len(pred_binary)):\n",
    "    # shows the first misclassification\n",
    "    if (y_test_binary[y_index] != pred_binary[y_index]):\n",
    "        print(\"predicted review label:\",'positive' if pred_binary[y_index]==1 else 'negative','\\n')\n",
    "        print(\"decoded movie review:\\n\",decode_review(x_test[y_index]))\n",
    "        break"
   ]
  },
  {
   "cell_type": "markdown",
   "id": "82f6dfae",
   "metadata": {},
   "source": [
    "### Feature importance"
   ]
  },
  {
   "cell_type": "markdown",
   "id": "0f278f8b",
   "metadata": {},
   "source": [
    "# 5. Improvements"
   ]
  },
  {
   "cell_type": "markdown",
   "id": "7c51774e",
   "metadata": {},
   "source": [
    "1. Filter words properly:\n",
    "    - Use `natural language processing (NLP)` or another technique to remove `stopwords ('the,'a','an',...)`, `names('Jhon','Sofia',...)`, `places('Montana','France'...)` from the entire database.\n",
    "    - Filtering dates ('1992',...) or another number.\n"
   ]
  },
  {
   "cell_type": "markdown",
   "id": "56946094",
   "metadata": {},
   "source": [
    "2. Words dictinary: \n",
    "    - Use all the words in the dictionary\n",
    "3. Feature importance:\n",
    "    - Analyze the importance of features (words in this case) in predicting sentiment. Features with low importance may be considered less relevant for sentiment analysis."
   ]
  },
  {
   "cell_type": "code",
   "execution_count": 174,
   "id": "6f4ddb7f",
   "metadata": {},
   "outputs": [
    {
     "data": {
      "image/png": "[encoded data removed]",
      "text/plain": [
       "<Figure size 640x480 with 1 Axes>"
      ]
     },
     "metadata": {},
     "output_type": "display_data"
    }
   ],
   "source": [
    "# Get the weights of the input layer\n",
    "input_layer_weights = model.layers[0].get_weights()\n",
    "\n",
    "# Calculate the feature importance scores based on the weights\n",
    "feature_importance = np.mean(np.abs(input_layer_weights[0]), axis=1)\n",
    "array_num = list(range(0,len(feature_importance)))\n",
    "\n",
    "matplotlib.pyplot.bar(array_num[:],feature_importance[:])\n",
    "plt.show()"
   ]
  },
  {
   "cell_type": "code",
   "execution_count": 172,
   "id": "7f8804dc",
   "metadata": {},
   "outputs": [
    {
     "name": "stdout",
     "output_type": "stream",
     "text": [
      "number of words with a score higher than 0.04: 122\n",
      "first 5 words: [('also', 79), ('most', 88), ('did', 119), ('look', 165), ('fun', 250)]\n"
     ]
    }
   ],
   "source": [
    "# select words with a score higher than 0.04 \n",
    "sentiment_index = []\n",
    "for index,value in enumerate(list(feature_importance)):\n",
    "    if value >0.04:\n",
    "        sentiment_index.append(index)\n",
    "\n",
    "sentiment_words = []\n",
    "for index in sentiment_index:\n",
    "    sentiment_words.append(preview_words[index])\n",
    "print('number of words with a score higher than 0.04:',len(sentiment_words))\n",
    "print('first 5 words:',sentiment_words[:5])"
   ]
  }
 ],
 "metadata": {
  "kernelspec": {
   "display_name": "Python 3 (ipykernel)",
   "language": "python",
   "name": "python3"
  },
  "language_info": {
   "codemirror_mode": {
    "name": "ipython",
    "version": 3
   },
   "file_extension": ".py",
   "mimetype": "text/x-python",
   "name": "python",
   "nbconvert_exporter": "python",
   "pygments_lexer": "ipython3",
   "version": "3.10.13"
  }
 },
 "nbformat": 4,
 "nbformat_minor": 5
}
